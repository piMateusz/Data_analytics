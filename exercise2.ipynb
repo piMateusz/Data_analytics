{
 "cells": [
  {
   "cell_type": "code",
   "execution_count": 6,
   "metadata": {},
   "outputs": [],
   "source": [
    "import os\n",
    "import matplotlib.pyplot as plt\n",
    "from cmdstanpy import CmdStanModel"
   ]
  },
  {
   "cell_type": "code",
   "execution_count": 2,
   "metadata": {},
   "outputs": [],
   "source": [
    "# Create a dataset (as a dictionary) of F+L binary samples with F zeros and L ones, \n",
    "# with F=number of letters in first name, L=number of letters in last name. \n",
    "# Dictionary needs to consist of N=F+L, and y = list of samples.\n",
    "\n",
    "values = [0 for _ in range(len(\"Mateusz\"))] + [1 for _ in range(len(\"Pilecki\"))]\n",
    "\n",
    "data = {\n",
    "    \"N\" : len(values),\n",
    "    \"y\" : values\n",
    "}"
   ]
  },
  {
   "cell_type": "code",
   "execution_count": 3,
   "metadata": {},
   "outputs": [
    {
     "name": "stderr",
     "output_type": "stream",
     "text": [
      "INFO:cmdstanpy:compiling stan file E:\\uczelnia\\ISZ\\semestr1\\data_analytics\\bern_1.stan to exe file E:\\uczelnia\\ISZ\\semestr1\\data_analytics\\bern_1.exe\n",
      "INFO:cmdstanpy:compiled model executable: E:\\uczelnia\\ISZ\\semestr1\\data_analytics\\bern_1.exe\n",
      "WARNING:cmdstanpy:Stan compiler has produced 1 warnings:\n",
      "WARNING:cmdstanpy:\n",
      "--- Translating Stan model to C++ code ---\n",
      "bin/stanc.exe  --o=E:/uczelnia/ISZ/semestr1/data_analytics/bern_1.hpp E:/uczelnia/ISZ/semestr1/data_analytics/bern_1.stan\n",
      "Warning in 'E:/uczelnia/ISZ/semestr1/data_analytics/bern_1.stan', line 3, column 3: Declaration\n",
      "    of arrays by placing brackets after a variable name is deprecated and\n",
      "    will be removed in Stan 2.32.0. Instead use the array keyword before the\n",
      "    type. This can be changed automatically using the auto-format flag to\n",
      "    stanc\n",
      "\n",
      "--- Compiling, linking C++ code ---\n",
      "g++ -std=c++1y -m64 -D_REENTRANT -Wall -Wno-unused-function -Wno-uninitialized -Wno-unused-but-set-variable -Wno-unused-variable -Wno-sign-compare -Wno-unused-local-typedefs -Wno-int-in-bool-context -Wno-attributes -Wno-ignored-attributes      -I stan/lib/stan_math/lib/tbb_2020.3/include    -O3 -I src -I stan/src -I lib/rapidjson_1.1.0/ -I lib/CLI11-1.9.1/ -I stan/lib/stan_math/ -I stan/lib/stan_math/lib/eigen_3.3.9 -I stan/lib/stan_math/lib/boost_1.75.0 -I stan/lib/stan_math/lib/sundials_6.0.0/include -I stan/lib/stan_math/lib/sundials_6.0.0/src/sundials  -D_USE_MATH_DEFINES  -DBOOST_DISABLE_ASSERTS          -c  -x c++ -o E:/uczelnia/ISZ/semestr1/data_analytics/bern_1.o E:/uczelnia/ISZ/semestr1/data_analytics/bern_1.hpp\n",
      "g++ -std=c++1y -m64 -D_REENTRANT -Wall -Wno-unused-function -Wno-uninitialized -Wno-unused-but-set-variable -Wno-unused-variable -Wno-sign-compare -Wno-unused-local-typedefs -Wno-int-in-bool-context -Wno-attributes -Wno-ignored-attributes      -I stan/lib/stan_math/lib/tbb_2020.3/include    -O3 -I src -I stan/src -I lib/rapidjson_1.1.0/ -I lib/CLI11-1.9.1/ -I stan/lib/stan_math/ -I stan/lib/stan_math/lib/eigen_3.3.9 -I stan/lib/stan_math/lib/boost_1.75.0 -I stan/lib/stan_math/lib/sundials_6.0.0/include -I stan/lib/stan_math/lib/sundials_6.0.0/src/sundials  -D_USE_MATH_DEFINES  -DBOOST_DISABLE_ASSERTS                -Wl,-L,\"C:/Users/PC/Anaconda3/envs/ABD/Library/bin/cmdstan/stan/lib/stan_math/lib/tbb\" -Wl,-rpath,\"C:/Users/PC/Anaconda3/envs/ABD/Library/bin/cmdstan/stan/lib/stan_math/lib/tbb\"      E:/uczelnia/ISZ/semestr1/data_analytics/bern_1.o src/cmdstan/main.o  -static-libgcc -static-libstdc++      -Wl,-L,\"C:/Users/PC/Anaconda3/envs/ABD/Library/bin/cmdstan/stan/lib/stan_math/lib/tbb\" -Wl,-rpath,\"C:/Users/PC/Anaconda3/envs/ABD/Library/bin/cmdstan/stan/lib/stan_math/lib/tbb\"   stan/lib/stan_math/lib/sundials_6.0.0/lib/libsundials_nvecserial.a stan/lib/stan_math/lib/sundials_6.0.0/lib/libsundials_cvodes.a stan/lib/stan_math/lib/sundials_6.0.0/lib/libsundials_idas.a stan/lib/stan_math/lib/sundials_6.0.0/lib/libsundials_kinsol.a  stan/lib/stan_math/lib/tbb/tbb.dll -o E:/uczelnia/ISZ/semestr1/data_analytics/bern_1.exe\n",
      "rm -f E:/uczelnia/ISZ/semestr1/data_analytics/bern_1.o\n",
      "\n"
     ]
    },
    {
     "data": {
      "text/plain": [
       "'data {\\n   int<lower=0> N;\\n   int<lower=0,upper=1> y[N];\\n }\\n parameters {\\n   real<lower=0,upper=1> theta;\\n }\\n model {\\n   theta ~ beta(1,1);  // uniform prior on interval 0,1\\n   y ~ bernoulli(theta);\\n }'"
      ]
     },
     "execution_count": 3,
     "metadata": {},
     "output_type": "execute_result"
    }
   ],
   "source": [
    "# Create a cmdstanpy model from bern_1.stan code provided.\n",
    "bernoulli_stan = os.path.join(\".\", \"bern_1.stan\")\n",
    "bernoulli_model = CmdStanModel(stan_file=bernoulli_stan)\n",
    "bernoulli_model.name\n",
    "bernoulli_model.stan_file\n",
    "bernoulli_model.exe_file\n",
    "bernoulli_model.code()"
   ]
  },
  {
   "cell_type": "code",
   "execution_count": 4,
   "metadata": {},
   "outputs": [
    {
     "name": "stderr",
     "output_type": "stream",
     "text": [
      "INFO:cmdstanpy:CmdStan start processing\n",
      "chain 1 |\u001b[33m          \u001b[0m| 00:00 Status\n",
      "\u001b[A\n",
      "\n",
      "\u001b[A\u001b[A\n",
      "\n",
      "chain 1 |\u001b[33m▍         \u001b[0m| 00:00 Status\n",
      "chain 1 |\u001b[34m██████████\u001b[0m| 00:00 Sampling completed\n",
      "chain 2 |\u001b[34m██████████\u001b[0m| 00:00 Sampling completed\n",
      "chain 3 |\u001b[34m██████████\u001b[0m| 00:00 Sampling completed\n",
      "chain 4 |\u001b[34m██████████\u001b[0m| 00:00 Sampling completed"
     ]
    },
    {
     "name": "stdout",
     "output_type": "stream",
     "text": [
      "                                                                                                                                                                                                                                                                                                                                "
     ]
    },
    {
     "name": "stderr",
     "output_type": "stream",
     "text": [
      "\n",
      "INFO:cmdstanpy:CmdStan done processing.\n"
     ]
    },
    {
     "name": "stdout",
     "output_type": "stream",
     "text": [
      "\n",
      "CmdStanMCMC: model=bern_1 chains=4['method=sample', 'algorithm=hmc', 'adapt', 'engaged=1']\n",
      " csv_files:\n",
      "\tE:\\uczelnia\\ISZ\\semestr1\\data_analytics\\bern_1-20220305145200_1.csv\n",
      "\tE:\\uczelnia\\ISZ\\semestr1\\data_analytics\\bern_1-20220305145200_2.csv\n",
      "\tE:\\uczelnia\\ISZ\\semestr1\\data_analytics\\bern_1-20220305145200_3.csv\n",
      "\tE:\\uczelnia\\ISZ\\semestr1\\data_analytics\\bern_1-20220305145200_4.csv\n",
      " output_files:\n",
      "\tE:\\uczelnia\\ISZ\\semestr1\\data_analytics\\bern_1-20220305145200_0-stdout.txt\n",
      "\tE:\\uczelnia\\ISZ\\semestr1\\data_analytics\\bern_1-20220305145200_1-stdout.txt\n",
      "\tE:\\uczelnia\\ISZ\\semestr1\\data_analytics\\bern_1-20220305145200_2-stdout.txt\n",
      "\tE:\\uczelnia\\ISZ\\semestr1\\data_analytics\\bern_1-20220305145200_3-stdout.txt\n"
     ]
    },
    {
     "data": {
      "text/plain": [
       "(1000, 4, 8)"
      ]
     },
     "execution_count": 4,
     "metadata": {},
     "output_type": "execute_result"
    }
   ],
   "source": [
    "# Sample from the model using the dataset and .sample() method\n",
    "bern_fit = bernoulli_model.sample(data=data, output_dir='.')\n",
    "print(bern_fit)\n",
    "bern_fit.draws().shape"
   ]
  },
  {
   "cell_type": "code",
   "execution_count": 8,
   "metadata": {},
   "outputs": [
    {
     "data": {
      "image/png": "[encoded data removed]",
      "text/plain": [
       "<Figure size 432x288 with 1 Axes>"
      ]
     },
     "metadata": {
      "needs_background": "light"
     },
     "output_type": "display_data"
    }
   ],
   "source": [
    "# Extract theta variable and create its histogram.\n",
    "theta = bern_fit.stan_variable('theta')\n",
    "plt.hist(theta);"
   ]
  },
  {
   "cell_type": "code",
   "execution_count": 13,
   "metadata": {},
   "outputs": [
    {
     "data": {
      "text/html": [
       "<div>\n",
       "<style scoped>\n",
       "    .dataframe tbody tr th:only-of-type {\n",
       "        vertical-align: middle;\n",
       "    }\n",
       "\n",
       "    .dataframe tbody tr th {\n",
       "        vertical-align: top;\n",
       "    }\n",
       "\n",
       "    .dataframe thead th {\n",
       "        text-align: right;\n",
       "    }\n",
       "</style>\n",
       "<table border=\"1\" class=\"dataframe\">\n",
       "  <thead>\n",
       "    <tr style=\"text-align: right;\">\n",
       "      <th></th>\n",
       "      <th>Mean</th>\n",
       "      <th>MCSE</th>\n",
       "      <th>StdDev</th>\n",
       "      <th>5%</th>\n",
       "      <th>50%</th>\n",
       "      <th>95%</th>\n",
       "      <th>N_Eff</th>\n",
       "      <th>N_Eff/s</th>\n",
       "      <th>R_hat</th>\n",
       "    </tr>\n",
       "    <tr>\n",
       "      <th>name</th>\n",
       "      <th></th>\n",
       "      <th></th>\n",
       "      <th></th>\n",
       "      <th></th>\n",
       "      <th></th>\n",
       "      <th></th>\n",
       "      <th></th>\n",
       "      <th></th>\n",
       "      <th></th>\n",
       "    </tr>\n",
       "  </thead>\n",
       "  <tbody>\n",
       "    <tr>\n",
       "      <th>lp__</th>\n",
       "      <td>-12.0</td>\n",
       "      <td>0.0180</td>\n",
       "      <td>0.72</td>\n",
       "      <td>-13.0</td>\n",
       "      <td>-11.0</td>\n",
       "      <td>-11.0</td>\n",
       "      <td>1600.0</td>\n",
       "      <td>7600.0</td>\n",
       "      <td>1.0</td>\n",
       "    </tr>\n",
       "    <tr>\n",
       "      <th>theta</th>\n",
       "      <td>0.5</td>\n",
       "      <td>0.0031</td>\n",
       "      <td>0.12</td>\n",
       "      <td>0.3</td>\n",
       "      <td>0.5</td>\n",
       "      <td>0.7</td>\n",
       "      <td>1500.0</td>\n",
       "      <td>6900.0</td>\n",
       "      <td>1.0</td>\n",
       "    </tr>\n",
       "  </tbody>\n",
       "</table>\n",
       "</div>"
      ],
      "text/plain": [
       "       Mean    MCSE  StdDev    5%   50%   95%   N_Eff  N_Eff/s  R_hat\n",
       "name                                                                 \n",
       "lp__  -12.0  0.0180    0.72 -13.0 -11.0 -11.0  1600.0   7600.0    1.0\n",
       "theta   0.5  0.0031    0.12   0.3   0.5   0.7  1500.0   6900.0    1.0"
      ]
     },
     "execution_count": 13,
     "metadata": {},
     "output_type": "execute_result"
    }
   ],
   "source": [
    "# Using .summary() method get mean, median and 5% and 95% quantiles of theta, and mark them on the histogram.\n",
    "summary = bern_fit.summary()\n",
    "summary"
   ]
  },
  {
   "cell_type": "code",
   "execution_count": 35,
   "metadata": {},
   "outputs": [
    {
     "data": {
      "image/png": "[encoded data removed]",
      "text/plain": [
       "<Figure size 432x288 with 1 Axes>"
      ]
     },
     "metadata": {
      "needs_background": "light"
     },
     "output_type": "display_data"
    }
   ],
   "source": [
    "values = [\"Mean\", \"50%\", \"5%\", \"95%\"]\n",
    "colours = [\"y\", \"m\", \"r\", \"g\"]\n",
    "\n",
    "for value, colour in zip(values, colours):\n",
    "    theta_val = summary[value][\"theta\"]\n",
    "    plt.axvline(theta_val, color=colour, linestyle='dashed', linewidth=2, label=\"label\")\n",
    "\n",
    "plt.hist(theta)\n",
    "plt.show()"
   ]
  },
  {
   "cell_type": "code",
   "execution_count": null,
   "metadata": {},
   "outputs": [],
   "source": []
  }
 ],
 "metadata": {
  "interpreter": {
   "hash": "fb073f4cce7fdf3953b252036af29f6a0b2afb180743d8378bdb04912aa2c131"
  },
  "kernelspec": {
   "display_name": "Python 3.8.11 ('ABD')",
   "language": "python",
   "name": "python3"
  },
  "language_info": {
   "codemirror_mode": {
    "name": "ipython",
    "version": 3
   },
   "file_extension": ".py",
   "mimetype": "text/x-python",
   "name": "python",
   "nbconvert_exporter": "python",
   "pygments_lexer": "ipython3",
   "version": "3.8.11"
  },
  "orig_nbformat": 4
 },
 "nbformat": 4,
 "nbformat_minor": 2
}
