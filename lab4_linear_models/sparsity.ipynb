{
 "cells": [
  {
   "cell_type": "code",
   "execution_count": 36,
   "metadata": {},
   "outputs": [],
   "source": [
    "from cmdstanpy import CmdStanModel\n",
    "\n",
    "\n",
    "import arviz as az\n",
    "import numpy as np\n",
    "import scipy.stats as stats\n",
    "\n",
    "import matplotlib.pyplot as plt\n",
    "import pandas as pd"
   ]
  },
  {
   "cell_type": "markdown",
   "metadata": {},
   "source": [
    "We will generate fake data, that will simulate dataset of 100 outputs from 200 dimensional linear model along with appropriate predictors. Our goal will be estimation of the parameters of the model."
   ]
  },
  {
   "cell_type": "code",
   "execution_count": 37,
   "metadata": {},
   "outputs": [
    {
     "name": "stderr",
     "output_type": "stream",
     "text": [
      "INFO:cmdstanpy:found newer exe file, not recompiling\n"
     ]
    }
   ],
   "source": [
    "data_genetator = CmdStanModel(stan_file = 'generate_data.stan')"
   ]
  },
  {
   "cell_type": "code",
   "execution_count": 38,
   "metadata": {},
   "outputs": [
    {
     "name": "stderr",
     "output_type": "stream",
     "text": [
      "INFO:cmdstanpy:CmdStan start processing\n"
     ]
    },
    {
     "name": "stdout",
     "output_type": "stream",
     "text": [
      "19990707\n"
     ]
    },
    {
     "name": "stderr",
     "output_type": "stream",
     "text": [
      "chain 1 |\u001b[34m██████████\u001b[0m| 00:00 Sampling completed"
     ]
    },
    {
     "name": "stdout",
     "output_type": "stream",
     "text": [
      "                                                                                "
     ]
    },
    {
     "name": "stderr",
     "output_type": "stream",
     "text": [
      "\n",
      "INFO:cmdstanpy:CmdStan done processing.\n"
     ]
    },
    {
     "name": "stdout",
     "output_type": "stream",
     "text": [
      "\n"
     ]
    }
   ],
   "source": [
    "I = len(\"Mateusz\") #number of letters in name\n",
    "N = len(\"Pilecki\") #number of letters in surname\n",
    "DoB= 1999\n",
    "seed=int(DoB*1e4+100*I+N)\n",
    "print(seed)\n",
    "generated_data = data_genetator.sample(chains=1, iter_sampling=1, iter_warmup=0, fixed_param=True,seed=seed)"
   ]
  },
  {
   "cell_type": "markdown",
   "metadata": {},
   "source": [
    "### Coefficients of linear model\n",
    "Only few of beta coefficients are significantly greater than 0."
   ]
  },
  {
   "cell_type": "code",
   "execution_count": 39,
   "metadata": {},
   "outputs": [
    {
     "data": {
      "text/plain": [
       "<matplotlib.patches.StepPatch at 0x1dc7da656a0>"
      ]
     },
     "execution_count": 39,
     "metadata": {},
     "output_type": "execute_result"
    },
    {
     "data": {
      "image/png": "[encoded data removed]",
      "text/plain": [
       "<Figure size 432x288 with 1 Axes>"
      ]
     },
     "metadata": {
      "needs_background": "light"
     },
     "output_type": "display_data"
    }
   ],
   "source": [
    "beta_s = generated_data.stan_variable('beta')\n",
    "plt.stairs(generated_data.stan_variable('beta')[0])"
   ]
  },
  {
   "cell_type": "markdown",
   "metadata": {},
   "source": [
    "This is an issue called sparsity. We will try to exploit that when infering the results via changing the prior structure. "
   ]
  },
  {
   "cell_type": "markdown",
   "metadata": {},
   "source": [
    "### Model 1 - uniform prior for beta"
   ]
  },
  {
   "cell_type": "code",
   "execution_count": 40,
   "metadata": {},
   "outputs": [
    {
     "name": "stderr",
     "output_type": "stream",
     "text": [
      "INFO:cmdstanpy:found newer exe file, not recompiling\n"
     ]
    }
   ],
   "source": [
    "model_uniform = CmdStanModel(stan_file = 'model1.stan')"
   ]
  },
  {
   "cell_type": "code",
   "execution_count": 41,
   "metadata": {},
   "outputs": [],
   "source": [
    "data_for_inference = {'N':100,\n",
    "                      'M':200,\n",
    "                      'X':generated_data.stan_variable('X')[0],\n",
    "                      'y':generated_data.stan_variable('y')[0]\n",
    "                      }"
   ]
  },
  {
   "cell_type": "code",
   "execution_count": 42,
   "metadata": {},
   "outputs": [
    {
     "name": "stderr",
     "output_type": "stream",
     "text": [
      "INFO:cmdstanpy:CmdStan start processing\n",
      "chain 1 |\u001b[33m          \u001b[0m| 00:00 Status\n",
      "\u001b[A\n",
      "\n",
      "chain 1 |\u001b[33m▍         \u001b[0m| 00:00 Status\n",
      "\n",
      "\u001b[A\u001b[A\n",
      "\u001b[A\n",
      "\u001b[A\n",
      "\n",
      "chain 1 |\u001b[33m▉         \u001b[0m| 00:03 Iteration:    1 / 2000 [  0%]  (Warmup)\n",
      "chain 1 |\u001b[33m█▎        \u001b[0m| 00:07 Iteration:  100 / 2000 [  5%]  (Warmup)\n",
      "\n",
      "\u001b[A\u001b[A\n",
      "chain 1 |\u001b[33m█▊        \u001b[0m| 00:11 Iteration:  200 / 2000 [ 10%]  (Warmup)\n",
      "\n",
      "\u001b[A\u001b[A\n",
      "\u001b[A\n",
      "\n",
      "chain 1 |\u001b[33m██▎       \u001b[0m| 00:15 Iteration:  300 / 2000 [ 15%]  (Warmup)\n",
      "\u001b[A\n",
      "\n",
      "chain 1 |\u001b[33m██▋       \u001b[0m| 00:19 Iteration:  400 / 2000 [ 20%]  (Warmup)\n",
      "\u001b[A\n",
      "\n",
      "chain 1 |\u001b[33m███▏      \u001b[0m| 00:23 Iteration:  500 / 2000 [ 25%]  (Warmup)\n",
      "\n",
      "\u001b[A\u001b[A\n",
      "chain 1 |\u001b[33m███▋      \u001b[0m| 00:28 Iteration:  600 / 2000 [ 30%]  (Warmup)\n",
      "\n",
      "\u001b[A\u001b[A\n",
      "chain 1 |\u001b[33m████      \u001b[0m| 00:33 Iteration:  700 / 2000 [ 35%]  (Warmup)\n",
      "\n",
      "\u001b[A\u001b[A\n",
      "chain 1 |\u001b[33m████▌     \u001b[0m| 00:38 Iteration:  800 / 2000 [ 40%]  (Warmup)\n",
      "\n",
      "\u001b[A\u001b[A\n",
      "chain 1 |\u001b[33m█████     \u001b[0m| 00:42 Iteration:  900 / 2000 [ 45%]  (Warmup)\n",
      "\n",
      "\u001b[A\u001b[A\n",
      "chain 1 |\u001b[34m█████▉    \u001b[0m| 00:47 Iteration: 1001 / 2000 [ 50%]  (Sampling)\n",
      "\u001b[A\n",
      "\n",
      "chain 1 |\u001b[34m██████▎   \u001b[0m| 00:52 Iteration: 1100 / 2000 [ 55%]  (Sampling)\n",
      "\n",
      "\u001b[A\u001b[A\n",
      "chain 1 |\u001b[34m██████▊   \u001b[0m| 00:57 Iteration: 1200 / 2000 [ 60%]  (Sampling)\n",
      "\n",
      "chain 1 |\u001b[34m███████▎  \u001b[0m| 01:02 Iteration: 1300 / 2000 [ 65%]  (Sampling)\n",
      "\u001b[A\n",
      "\n",
      "chain 1 |\u001b[34m███████▋  \u001b[0m| 01:08 Iteration: 1400 / 2000 [ 70%]  (Sampling)\n",
      "\u001b[A\n",
      "\n",
      "chain 1 |\u001b[34m████████▏ \u001b[0m| 01:15 Iteration: 1500 / 2000 [ 75%]  (Sampling)\n",
      "\u001b[A\n",
      "\n",
      "chain 1 |\u001b[34m████████▋ \u001b[0m| 01:20 Iteration: 1600 / 2000 [ 80%]  (Sampling)\n",
      "\u001b[A\n",
      "\n",
      "chain 1 |\u001b[34m█████████ \u001b[0m| 01:28 Iteration: 1700 / 2000 [ 85%]  (Sampling)\n",
      "\u001b[A\n",
      "\n",
      "chain 1 |\u001b[34m█████████▌\u001b[0m| 01:33 Iteration: 1800 / 2000 [ 90%]  (Sampling)\n",
      "\u001b[A\n",
      "\n",
      "chain 1 |\u001b[34m██████████\u001b[0m| 01:38 Iteration: 1900 / 2000 [ 95%]  (Sampling)\n",
      "chain 1 |\u001b[34m██████████\u001b[0m| 01:39 Sampling completed                       \n",
      "chain 2 |\u001b[34m██████████\u001b[0m| 01:39 Sampling completed                       \n",
      "chain 3 |\u001b[34m██████████\u001b[0m| 01:39 Sampling completed                       \n",
      "chain 4 |\u001b[34m██████████\u001b[0m| 01:39 Sampling completed                       "
     ]
    },
    {
     "name": "stdout",
     "output_type": "stream",
     "text": [
      "                                                                                                                                                                                                                                                                                                                                "
     ]
    },
    {
     "name": "stderr",
     "output_type": "stream",
     "text": [
      "\n",
      "INFO:cmdstanpy:CmdStan done processing.\n"
     ]
    },
    {
     "name": "stdout",
     "output_type": "stream",
     "text": [
      "\n"
     ]
    }
   ],
   "source": [
    "fit_unf = model_uniform.sample(data=data_for_inference,seed=seed)"
   ]
  },
  {
   "cell_type": "code",
   "execution_count": 43,
   "metadata": {},
   "outputs": [
    {
     "name": "stdout",
     "output_type": "stream",
     "text": [
      "Processing csv files: C:\\Users\\PC\\AppData\\Local\\Temp\\tmp11ufth45\\model1-20220511162725_1.csv, C:\\Users\\PC\\AppData\\Local\\Temp\\tmp11ufth45\\model1-20220511162725_2.csv, C:\\Users\\PC\\AppData\\Local\\Temp\\tmp11ufth45\\model1-20220511162725_3.csv, C:\\Users\\PC\\AppData\\Local\\Temp\\tmp11ufth45\\model1-20220511162725_4.csv\n",
      "\n",
      "Checking sampler transitions treedepth.\n",
      "3969 of 4000 (99.22%) transitions hit the maximum treedepth limit of 10, or 2^10 leapfrog steps.\n",
      "Trajectories that are prematurely terminated due to this limit will result in slow exploration.\n",
      "For optimal performance, increase this limit.\n",
      "\n",
      "Checking sampler transitions for divergences.\n",
      "31 of 4000 (0.78%) transitions ended with a divergence.\n",
      "These divergent transitions indicate that HMC is not fully able to explore the posterior distribution.\n",
      "Try increasing adapt delta closer to 1.\n",
      "If this doesn't remove all divergences, try to reparameterize the model.\n",
      "\n",
      "Checking E-BFMI - sampler transitions HMC potential energy.\n",
      "The E-BFMI, 0.07, is below the nominal threshold of 0.30 which suggests that HMC may have trouble exploring the target distribution.\n",
      "If possible, try to reparameterize the model.\n",
      "\n",
      "The following parameters had fewer than 0.001 effective draws per transition:\n",
      "  beta[1], beta[2], beta[3], beta[4], beta[5], beta[6], beta[7], beta[8], beta[9], beta[10], beta[11], beta[12], beta[13], beta[14], beta[15], beta[16], beta[17], beta[18], beta[19], beta[20], beta[21], beta[22], beta[23], beta[24], beta[25], beta[26], beta[27], beta[28], beta[29], beta[30], beta[31], beta[32], beta[33], beta[34], beta[35], beta[36], beta[37], beta[38], beta[39], beta[40], beta[41], beta[42], beta[43], beta[44], beta[45], beta[46], beta[47], beta[48], beta[49], beta[50], beta[51], beta[52], beta[53], beta[54], beta[55], beta[56], beta[57], beta[58], beta[59], beta[60], beta[61], beta[62], beta[63], beta[64], beta[65], beta[66], beta[67], beta[68], beta[69], beta[70], beta[71], beta[72], beta[73], beta[74], beta[75], beta[76], beta[77], beta[78], beta[79], beta[80], beta[81], beta[82], beta[83], beta[84], beta[85], beta[86], beta[87], beta[88], beta[89], beta[90], beta[91], beta[92], beta[93], beta[94], beta[95], beta[96], beta[97], beta[98], beta[99], beta[100], beta[101], beta[102], beta[103], beta[104], beta[105], beta[106], beta[107], beta[108], beta[109], beta[110], beta[111], beta[112], beta[113], beta[114], beta[115], beta[116], beta[117], beta[118], beta[119], beta[120], beta[121], beta[122], beta[123], beta[124], beta[125], beta[126], beta[127], beta[128], beta[129], beta[130], beta[131], beta[132], beta[133], beta[134], beta[135], beta[136], beta[137], beta[138], beta[139], beta[140], beta[141], beta[142], beta[143], beta[144], beta[145], beta[146], beta[147], beta[148], beta[149], beta[150], beta[151], beta[152], beta[153], beta[154], beta[155], beta[156], beta[157], beta[158], beta[159], beta[160], beta[161], beta[162], beta[163], beta[164], beta[165], beta[166], beta[167], beta[168], beta[169], beta[170], beta[171], beta[172], beta[173], beta[174], beta[175], beta[176], beta[177], beta[178], beta[179], beta[180], beta[181], beta[182], beta[183], beta[184], beta[185], beta[186], beta[187], beta[188], beta[189], beta[190], beta[191], beta[192], beta[194], beta[195], beta[196], beta[197], beta[198], beta[199], beta[200], sigma\n",
      "Such low values indicate that the effective sample size estimators may be biased high and actual performance may be substantially lower than quoted.\n",
      "\n",
      "The following parameters had split R-hat greater than 1.05:\n",
      "  beta[1], beta[2], beta[3], beta[4], beta[5], beta[6], beta[7], beta[8], beta[9], beta[10], beta[11], beta[12], beta[13], beta[14], beta[15], beta[16], beta[17], beta[18], beta[19], beta[20], beta[21], beta[22], beta[23], beta[24], beta[25], beta[26], beta[27], beta[28], beta[29], beta[30], beta[31], beta[32], beta[33], beta[34], beta[35], beta[36], beta[37], beta[38], beta[39], beta[40], beta[41], beta[42], beta[43], beta[44], beta[45], beta[46], beta[47], beta[48], beta[49], beta[50], beta[51], beta[52], beta[53], beta[54], beta[55], beta[56], beta[57], beta[58], beta[59], beta[60], beta[61], beta[62], beta[63], beta[64], beta[65], beta[66], beta[67], beta[68], beta[69], beta[70], beta[71], beta[72], beta[73], beta[74], beta[75], beta[76], beta[77], beta[78], beta[79], beta[80], beta[81], beta[82], beta[83], beta[84], beta[85], beta[86], beta[87], beta[88], beta[89], beta[90], beta[91], beta[92], beta[93], beta[94], beta[95], beta[96], beta[97], beta[98], beta[99], beta[100], beta[101], beta[102], beta[103], beta[104], beta[105], beta[106], beta[107], beta[108], beta[109], beta[110], beta[111], beta[112], beta[113], beta[114], beta[115], beta[116], beta[117], beta[118], beta[119], beta[120], beta[121], beta[122], beta[123], beta[124], beta[125], beta[126], beta[127], beta[128], beta[129], beta[130], beta[131], beta[132], beta[133], beta[134], beta[135], beta[136], beta[137], beta[138], beta[139], beta[140], beta[141], beta[142], beta[143], beta[144], beta[145], beta[146], beta[147], beta[148], beta[149], beta[150], beta[151], beta[152], beta[153], beta[154], beta[155], beta[156], beta[157], beta[158], beta[159], beta[160], beta[161], beta[162], beta[163], beta[164], beta[165], beta[166], beta[167], beta[168], beta[169], beta[170], beta[171], beta[172], beta[173], beta[174], beta[175], beta[176], beta[177], beta[178], beta[179], beta[180], beta[181], beta[182], beta[183], beta[184], beta[185], beta[186], beta[187], beta[188], beta[189], beta[190], beta[191], beta[192], beta[193], beta[194], beta[195], beta[196], beta[197], beta[198], beta[199], beta[200], alpha, sigma\n",
      "Such high values indicate incomplete mixing and biased estimation.\n",
      "You should consider regularizating your model with additional prior information or a more effective parameterization.\n",
      "\n",
      "Processing complete.\n",
      "\n"
     ]
    }
   ],
   "source": [
    "print(fit_unf.diagnose())"
   ]
  },
  {
   "cell_type": "markdown",
   "metadata": {},
   "source": [
    "#### Task 1. Evaluating model\n",
    "\n",
    "1. Analyse the diagnosis of model. What sampling issues occured?\n",
    "2. For each fitted beta coefficient plot maximum, minimum, and 5, 25, 50, 75, 95 quantiles of simulated weight (all in the same plot). Compare with true values of beta. \n",
    "3. Substract true values from fitted betas and make the same plot (residues)"
   ]
  },
  {
   "cell_type": "markdown",
   "metadata": {},
   "source": [
    "Sampling issues:\n",
    "- (99.22%) transitions hit the maximum treedepth limit of 10, or 2^10 leapfrog steps.\n",
    "Trajectories that are prematurely terminated due to this limit will result in slow exploration.\n",
    "- (0.78%) transitions ended with a divergence.\n",
    "These divergent transitions indicate that HMC is not fully able to explore the posterior distribution.\n",
    "- The E-BFMI, 0.07, is below the nominal threshold of 0.30 which suggests that HMC may have trouble exploring the target distribution."
   ]
  },
  {
   "cell_type": "code",
   "execution_count": 44,
   "metadata": {},
   "outputs": [
    {
     "data": {
      "text/html": [
       "<div>\n",
       "<style scoped>\n",
       "    .dataframe tbody tr th:only-of-type {\n",
       "        vertical-align: middle;\n",
       "    }\n",
       "\n",
       "    .dataframe tbody tr th {\n",
       "        vertical-align: top;\n",
       "    }\n",
       "\n",
       "    .dataframe thead th {\n",
       "        text-align: right;\n",
       "    }\n",
       "</style>\n",
       "<table border=\"1\" class=\"dataframe\">\n",
       "  <thead>\n",
       "    <tr style=\"text-align: right;\">\n",
       "      <th></th>\n",
       "      <th>Mean</th>\n",
       "      <th>MCSE</th>\n",
       "      <th>StdDev</th>\n",
       "      <th>5%</th>\n",
       "      <th>50%</th>\n",
       "      <th>95%</th>\n",
       "      <th>N_Eff</th>\n",
       "      <th>N_Eff/s</th>\n",
       "      <th>R_hat</th>\n",
       "    </tr>\n",
       "    <tr>\n",
       "      <th>name</th>\n",
       "      <th></th>\n",
       "      <th></th>\n",
       "      <th></th>\n",
       "      <th></th>\n",
       "      <th></th>\n",
       "      <th></th>\n",
       "      <th></th>\n",
       "      <th></th>\n",
       "      <th></th>\n",
       "    </tr>\n",
       "  </thead>\n",
       "  <tbody>\n",
       "    <tr>\n",
       "      <th>lp__</th>\n",
       "      <td>-110.0</td>\n",
       "      <td>30.0</td>\n",
       "      <td>54.0</td>\n",
       "      <td>-210.0</td>\n",
       "      <td>-96.0</td>\n",
       "      <td>-36.0</td>\n",
       "      <td>3.3</td>\n",
       "      <td>0.0140</td>\n",
       "      <td>1.7</td>\n",
       "    </tr>\n",
       "    <tr>\n",
       "      <th>beta[1]</th>\n",
       "      <td>80.0</td>\n",
       "      <td>587.0</td>\n",
       "      <td>842.0</td>\n",
       "      <td>-1447.0</td>\n",
       "      <td>117.0</td>\n",
       "      <td>1237.0</td>\n",
       "      <td>2.1</td>\n",
       "      <td>0.0091</td>\n",
       "      <td>8.4</td>\n",
       "    </tr>\n",
       "    <tr>\n",
       "      <th>beta[2]</th>\n",
       "      <td>86.0</td>\n",
       "      <td>268.0</td>\n",
       "      <td>403.0</td>\n",
       "      <td>-451.0</td>\n",
       "      <td>60.0</td>\n",
       "      <td>791.0</td>\n",
       "      <td>2.3</td>\n",
       "      <td>0.0100</td>\n",
       "      <td>4.1</td>\n",
       "    </tr>\n",
       "    <tr>\n",
       "      <th>beta[3]</th>\n",
       "      <td>-91.0</td>\n",
       "      <td>339.0</td>\n",
       "      <td>485.0</td>\n",
       "      <td>-978.0</td>\n",
       "      <td>76.0</td>\n",
       "      <td>418.0</td>\n",
       "      <td>2.0</td>\n",
       "      <td>0.0091</td>\n",
       "      <td>8.5</td>\n",
       "    </tr>\n",
       "    <tr>\n",
       "      <th>beta[4]</th>\n",
       "      <td>53.0</td>\n",
       "      <td>201.0</td>\n",
       "      <td>351.0</td>\n",
       "      <td>-538.0</td>\n",
       "      <td>-14.0</td>\n",
       "      <td>533.0</td>\n",
       "      <td>3.1</td>\n",
       "      <td>0.0140</td>\n",
       "      <td>2.4</td>\n",
       "    </tr>\n",
       "    <tr>\n",
       "      <th>...</th>\n",
       "      <td>...</td>\n",
       "      <td>...</td>\n",
       "      <td>...</td>\n",
       "      <td>...</td>\n",
       "      <td>...</td>\n",
       "      <td>...</td>\n",
       "      <td>...</td>\n",
       "      <td>...</td>\n",
       "      <td>...</td>\n",
       "    </tr>\n",
       "    <tr>\n",
       "      <th>beta[198]</th>\n",
       "      <td>-380.0</td>\n",
       "      <td>556.0</td>\n",
       "      <td>814.0</td>\n",
       "      <td>-2085.0</td>\n",
       "      <td>-135.0</td>\n",
       "      <td>599.0</td>\n",
       "      <td>2.1</td>\n",
       "      <td>0.0095</td>\n",
       "      <td>4.3</td>\n",
       "    </tr>\n",
       "    <tr>\n",
       "      <th>beta[199]</th>\n",
       "      <td>-556.0</td>\n",
       "      <td>156.0</td>\n",
       "      <td>283.0</td>\n",
       "      <td>-1092.0</td>\n",
       "      <td>-471.0</td>\n",
       "      <td>-218.0</td>\n",
       "      <td>3.3</td>\n",
       "      <td>0.0150</td>\n",
       "      <td>2.7</td>\n",
       "    </tr>\n",
       "    <tr>\n",
       "      <th>beta[200]</th>\n",
       "      <td>63.0</td>\n",
       "      <td>311.0</td>\n",
       "      <td>478.0</td>\n",
       "      <td>-930.0</td>\n",
       "      <td>76.0</td>\n",
       "      <td>743.0</td>\n",
       "      <td>2.4</td>\n",
       "      <td>0.0100</td>\n",
       "      <td>3.3</td>\n",
       "    </tr>\n",
       "    <tr>\n",
       "      <th>alpha</th>\n",
       "      <td>0.2</td>\n",
       "      <td>0.8</td>\n",
       "      <td>1.9</td>\n",
       "      <td>-3.1</td>\n",
       "      <td>0.3</td>\n",
       "      <td>3.1</td>\n",
       "      <td>5.4</td>\n",
       "      <td>0.0000</td>\n",
       "      <td>1.7</td>\n",
       "    </tr>\n",
       "    <tr>\n",
       "      <th>sigma</th>\n",
       "      <td>2.1</td>\n",
       "      <td>0.6</td>\n",
       "      <td>1.2</td>\n",
       "      <td>0.9</td>\n",
       "      <td>1.6</td>\n",
       "      <td>4.7</td>\n",
       "      <td>4.0</td>\n",
       "      <td>0.0000</td>\n",
       "      <td>1.6</td>\n",
       "    </tr>\n",
       "  </tbody>\n",
       "</table>\n",
       "<p>203 rows × 9 columns</p>\n",
       "</div>"
      ],
      "text/plain": [
       "            Mean   MCSE  StdDev      5%    50%     95%  N_Eff  N_Eff/s  R_hat\n",
       "name                                                                         \n",
       "lp__      -110.0   30.0    54.0  -210.0  -96.0   -36.0    3.3   0.0140    1.7\n",
       "beta[1]     80.0  587.0   842.0 -1447.0  117.0  1237.0    2.1   0.0091    8.4\n",
       "beta[2]     86.0  268.0   403.0  -451.0   60.0   791.0    2.3   0.0100    4.1\n",
       "beta[3]    -91.0  339.0   485.0  -978.0   76.0   418.0    2.0   0.0091    8.5\n",
       "beta[4]     53.0  201.0   351.0  -538.0  -14.0   533.0    3.1   0.0140    2.4\n",
       "...          ...    ...     ...     ...    ...     ...    ...      ...    ...\n",
       "beta[198] -380.0  556.0   814.0 -2085.0 -135.0   599.0    2.1   0.0095    4.3\n",
       "beta[199] -556.0  156.0   283.0 -1092.0 -471.0  -218.0    3.3   0.0150    2.7\n",
       "beta[200]   63.0  311.0   478.0  -930.0   76.0   743.0    2.4   0.0100    3.3\n",
       "alpha        0.2    0.8     1.9    -3.1    0.3     3.1    5.4   0.0000    1.7\n",
       "sigma        2.1    0.6     1.2     0.9    1.6     4.7    4.0   0.0000    1.6\n",
       "\n",
       "[203 rows x 9 columns]"
      ]
     },
     "execution_count": 44,
     "metadata": {},
     "output_type": "execute_result"
    }
   ],
   "source": [
    "fit_unf.summary()"
   ]
  },
  {
   "cell_type": "code",
   "execution_count": 45,
   "metadata": {},
   "outputs": [],
   "source": [
    "beta_5 = fit_unf.summary()['5%'].loc['beta[1]':'beta[200]']\n",
    "beta_50 = fit_unf.summary()['50%'].loc['beta[1]':'beta[200]']\n",
    "beta_95 = fit_unf.summary()['95%'].loc['beta[1]':'beta[200]']"
   ]
  },
  {
   "cell_type": "code",
   "execution_count": 46,
   "metadata": {},
   "outputs": [
    {
     "data": {
      "text/html": [
       "<div>\n",
       "<style scoped>\n",
       "    .dataframe tbody tr th:only-of-type {\n",
       "        vertical-align: middle;\n",
       "    }\n",
       "\n",
       "    .dataframe tbody tr th {\n",
       "        vertical-align: top;\n",
       "    }\n",
       "\n",
       "    .dataframe thead th {\n",
       "        text-align: right;\n",
       "    }\n",
       "</style>\n",
       "<table border=\"1\" class=\"dataframe\">\n",
       "  <thead>\n",
       "    <tr style=\"text-align: right;\">\n",
       "      <th></th>\n",
       "      <th>lp__</th>\n",
       "      <th>accept_stat__</th>\n",
       "      <th>stepsize__</th>\n",
       "      <th>treedepth__</th>\n",
       "      <th>n_leapfrog__</th>\n",
       "      <th>divergent__</th>\n",
       "      <th>energy__</th>\n",
       "      <th>beta[1]</th>\n",
       "      <th>beta[2]</th>\n",
       "      <th>beta[3]</th>\n",
       "      <th>...</th>\n",
       "      <th>beta[193]</th>\n",
       "      <th>beta[194]</th>\n",
       "      <th>beta[195]</th>\n",
       "      <th>beta[196]</th>\n",
       "      <th>beta[197]</th>\n",
       "      <th>beta[198]</th>\n",
       "      <th>beta[199]</th>\n",
       "      <th>beta[200]</th>\n",
       "      <th>alpha</th>\n",
       "      <th>sigma</th>\n",
       "    </tr>\n",
       "  </thead>\n",
       "  <tbody>\n",
       "    <tr>\n",
       "      <th>count</th>\n",
       "      <td>4000.000000</td>\n",
       "      <td>4000.000000</td>\n",
       "      <td>4000.000000</td>\n",
       "      <td>4000.000000</td>\n",
       "      <td>4000.000000</td>\n",
       "      <td>4000.000000</td>\n",
       "      <td>4000.000000</td>\n",
       "      <td>4000.000000</td>\n",
       "      <td>4000.000000</td>\n",
       "      <td>4000.000000</td>\n",
       "      <td>...</td>\n",
       "      <td>4000.000000</td>\n",
       "      <td>4000.000000</td>\n",
       "      <td>4000.000000</td>\n",
       "      <td>4000.000000</td>\n",
       "      <td>4000.000000</td>\n",
       "      <td>4000.000000</td>\n",
       "      <td>4000.000000</td>\n",
       "      <td>4000.000000</td>\n",
       "      <td>4000.000000</td>\n",
       "      <td>4000.000000</td>\n",
       "    </tr>\n",
       "    <tr>\n",
       "      <th>mean</th>\n",
       "      <td>-107.624146</td>\n",
       "      <td>0.805504</td>\n",
       "      <td>0.000209</td>\n",
       "      <td>9.984750</td>\n",
       "      <td>1018.769750</td>\n",
       "      <td>0.007750</td>\n",
       "      <td>208.826682</td>\n",
       "      <td>79.856825</td>\n",
       "      <td>85.693132</td>\n",
       "      <td>-90.994920</td>\n",
       "      <td>...</td>\n",
       "      <td>-647.817412</td>\n",
       "      <td>-103.866016</td>\n",
       "      <td>136.770924</td>\n",
       "      <td>98.467517</td>\n",
       "      <td>-340.361891</td>\n",
       "      <td>-380.483924</td>\n",
       "      <td>-555.633267</td>\n",
       "      <td>63.467398</td>\n",
       "      <td>0.183821</td>\n",
       "      <td>2.055468</td>\n",
       "    </tr>\n",
       "    <tr>\n",
       "      <th>std</th>\n",
       "      <td>54.234807</td>\n",
       "      <td>0.274973</td>\n",
       "      <td>0.000050</td>\n",
       "      <td>0.196283</td>\n",
       "      <td>54.075436</td>\n",
       "      <td>0.087703</td>\n",
       "      <td>55.623154</td>\n",
       "      <td>841.954353</td>\n",
       "      <td>402.540798</td>\n",
       "      <td>484.669689</td>\n",
       "      <td>...</td>\n",
       "      <td>254.242785</td>\n",
       "      <td>487.152180</td>\n",
       "      <td>687.760710</td>\n",
       "      <td>645.146894</td>\n",
       "      <td>266.273155</td>\n",
       "      <td>813.817776</td>\n",
       "      <td>282.768900</td>\n",
       "      <td>478.217724</td>\n",
       "      <td>1.944367</td>\n",
       "      <td>1.223361</td>\n",
       "    </tr>\n",
       "    <tr>\n",
       "      <th>min</th>\n",
       "      <td>-259.364000</td>\n",
       "      <td>0.000004</td>\n",
       "      <td>0.000143</td>\n",
       "      <td>6.000000</td>\n",
       "      <td>87.000000</td>\n",
       "      <td>0.000000</td>\n",
       "      <td>90.144200</td>\n",
       "      <td>-1654.430000</td>\n",
       "      <td>-500.889000</td>\n",
       "      <td>-1073.680000</td>\n",
       "      <td>...</td>\n",
       "      <td>-1470.360000</td>\n",
       "      <td>-1141.840000</td>\n",
       "      <td>-1055.970000</td>\n",
       "      <td>-1179.070000</td>\n",
       "      <td>-912.180000</td>\n",
       "      <td>-2374.810000</td>\n",
       "      <td>-1251.420000</td>\n",
       "      <td>-1118.460000</td>\n",
       "      <td>-4.454900</td>\n",
       "      <td>0.626495</td>\n",
       "    </tr>\n",
       "    <tr>\n",
       "      <th>25%</th>\n",
       "      <td>-147.703000</td>\n",
       "      <td>0.758136</td>\n",
       "      <td>0.000172</td>\n",
       "      <td>10.000000</td>\n",
       "      <td>1023.000000</td>\n",
       "      <td>0.000000</td>\n",
       "      <td>164.161750</td>\n",
       "      <td>-251.053525</td>\n",
       "      <td>-285.115000</td>\n",
       "      <td>-254.922500</td>\n",
       "      <td>...</td>\n",
       "      <td>-743.023250</td>\n",
       "      <td>-261.212500</td>\n",
       "      <td>-351.080000</td>\n",
       "      <td>-234.105750</td>\n",
       "      <td>-594.941000</td>\n",
       "      <td>-454.539500</td>\n",
       "      <td>-805.759000</td>\n",
       "      <td>-188.723750</td>\n",
       "      <td>-1.175638</td>\n",
       "      <td>1.148083</td>\n",
       "    </tr>\n",
       "    <tr>\n",
       "      <th>50%</th>\n",
       "      <td>-96.063750</td>\n",
       "      <td>0.941007</td>\n",
       "      <td>0.000210</td>\n",
       "      <td>10.000000</td>\n",
       "      <td>1023.000000</td>\n",
       "      <td>0.000000</td>\n",
       "      <td>198.213500</td>\n",
       "      <td>82.454800</td>\n",
       "      <td>60.264550</td>\n",
       "      <td>75.716350</td>\n",
       "      <td>...</td>\n",
       "      <td>-643.332500</td>\n",
       "      <td>-30.390450</td>\n",
       "      <td>-191.508000</td>\n",
       "      <td>279.700000</td>\n",
       "      <td>-298.060500</td>\n",
       "      <td>-134.604000</td>\n",
       "      <td>-471.119500</td>\n",
       "      <td>76.338750</td>\n",
       "      <td>0.262797</td>\n",
       "      <td>1.592265</td>\n",
       "    </tr>\n",
       "    <tr>\n",
       "      <th>75%</th>\n",
       "      <td>-64.464300</td>\n",
       "      <td>0.982664</td>\n",
       "      <td>0.000247</td>\n",
       "      <td>10.000000</td>\n",
       "      <td>1023.000000</td>\n",
       "      <td>0.000000</td>\n",
       "      <td>249.271500</td>\n",
       "      <td>735.321750</td>\n",
       "      <td>464.837000</td>\n",
       "      <td>265.337250</td>\n",
       "      <td>...</td>\n",
       "      <td>-498.809500</td>\n",
       "      <td>90.632175</td>\n",
       "      <td>591.791250</td>\n",
       "      <td>617.017750</td>\n",
       "      <td>-178.188500</td>\n",
       "      <td>141.504750</td>\n",
       "      <td>-308.158750</td>\n",
       "      <td>499.243250</td>\n",
       "      <td>1.623270</td>\n",
       "      <td>2.645910</td>\n",
       "    </tr>\n",
       "    <tr>\n",
       "      <th>max</th>\n",
       "      <td>4.919170</td>\n",
       "      <td>1.000000</td>\n",
       "      <td>0.000273</td>\n",
       "      <td>10.000000</td>\n",
       "      <td>1023.000000</td>\n",
       "      <td>1.000000</td>\n",
       "      <td>374.599000</td>\n",
       "      <td>1325.560000</td>\n",
       "      <td>889.621000</td>\n",
       "      <td>481.928000</td>\n",
       "      <td>...</td>\n",
       "      <td>-35.297800</td>\n",
       "      <td>902.832000</td>\n",
       "      <td>1586.530000</td>\n",
       "      <td>1059.070000</td>\n",
       "      <td>462.897000</td>\n",
       "      <td>811.838000</td>\n",
       "      <td>-75.569000</td>\n",
       "      <td>855.515000</td>\n",
       "      <td>5.218290</td>\n",
       "      <td>7.118380</td>\n",
       "    </tr>\n",
       "  </tbody>\n",
       "</table>\n",
       "<p>8 rows × 209 columns</p>\n",
       "</div>"
      ],
      "text/plain": [
       "              lp__  accept_stat__   stepsize__  treedepth__  n_leapfrog__  \\\n",
       "count  4000.000000    4000.000000  4000.000000  4000.000000   4000.000000   \n",
       "mean   -107.624146       0.805504     0.000209     9.984750   1018.769750   \n",
       "std      54.234807       0.274973     0.000050     0.196283     54.075436   \n",
       "min    -259.364000       0.000004     0.000143     6.000000     87.000000   \n",
       "25%    -147.703000       0.758136     0.000172    10.000000   1023.000000   \n",
       "50%     -96.063750       0.941007     0.000210    10.000000   1023.000000   \n",
       "75%     -64.464300       0.982664     0.000247    10.000000   1023.000000   \n",
       "max       4.919170       1.000000     0.000273    10.000000   1023.000000   \n",
       "\n",
       "       divergent__     energy__      beta[1]      beta[2]      beta[3]  ...  \\\n",
       "count  4000.000000  4000.000000  4000.000000  4000.000000  4000.000000  ...   \n",
       "mean      0.007750   208.826682    79.856825    85.693132   -90.994920  ...   \n",
       "std       0.087703    55.623154   841.954353   402.540798   484.669689  ...   \n",
       "min       0.000000    90.144200 -1654.430000  -500.889000 -1073.680000  ...   \n",
       "25%       0.000000   164.161750  -251.053525  -285.115000  -254.922500  ...   \n",
       "50%       0.000000   198.213500    82.454800    60.264550    75.716350  ...   \n",
       "75%       0.000000   249.271500   735.321750   464.837000   265.337250  ...   \n",
       "max       1.000000   374.599000  1325.560000   889.621000   481.928000  ...   \n",
       "\n",
       "         beta[193]    beta[194]    beta[195]    beta[196]    beta[197]  \\\n",
       "count  4000.000000  4000.000000  4000.000000  4000.000000  4000.000000   \n",
       "mean   -647.817412  -103.866016   136.770924    98.467517  -340.361891   \n",
       "std     254.242785   487.152180   687.760710   645.146894   266.273155   \n",
       "min   -1470.360000 -1141.840000 -1055.970000 -1179.070000  -912.180000   \n",
       "25%    -743.023250  -261.212500  -351.080000  -234.105750  -594.941000   \n",
       "50%    -643.332500   -30.390450  -191.508000   279.700000  -298.060500   \n",
       "75%    -498.809500    90.632175   591.791250   617.017750  -178.188500   \n",
       "max     -35.297800   902.832000  1586.530000  1059.070000   462.897000   \n",
       "\n",
       "         beta[198]    beta[199]    beta[200]        alpha        sigma  \n",
       "count  4000.000000  4000.000000  4000.000000  4000.000000  4000.000000  \n",
       "mean   -380.483924  -555.633267    63.467398     0.183821     2.055468  \n",
       "std     813.817776   282.768900   478.217724     1.944367     1.223361  \n",
       "min   -2374.810000 -1251.420000 -1118.460000    -4.454900     0.626495  \n",
       "25%    -454.539500  -805.759000  -188.723750    -1.175638     1.148083  \n",
       "50%    -134.604000  -471.119500    76.338750     0.262797     1.592265  \n",
       "75%     141.504750  -308.158750   499.243250     1.623270     2.645910  \n",
       "max     811.838000   -75.569000   855.515000     5.218290     7.118380  \n",
       "\n",
       "[8 rows x 209 columns]"
      ]
     },
     "execution_count": 46,
     "metadata": {},
     "output_type": "execute_result"
    }
   ],
   "source": [
    "fit_unf_pd = fit_unf.draws_pd()\n",
    "fit_unf_pd.describe()"
   ]
  },
  {
   "cell_type": "code",
   "execution_count": 47,
   "metadata": {},
   "outputs": [],
   "source": [
    "beta_25 = fit_unf.draws_pd().describe().loc['25%']['beta[1]':'beta[200]']\n",
    "beta_75 = fit_unf.draws_pd().describe().loc['75%']['beta[1]':'beta[200]']\n",
    "beta_min = fit_unf.draws_pd().describe().loc['min']['beta[1]':'beta[200]']\n",
    "beta_max = fit_unf.draws_pd().describe().loc['max']['beta[1]':'beta[200]']"
   ]
  },
  {
   "cell_type": "code",
   "execution_count": 48,
   "metadata": {},
   "outputs": [
    {
     "data": {
      "image/png": "[encoded data removed]",
      "text/plain": [
       "<Figure size 1440x720 with 8 Axes>"
      ]
     },
     "metadata": {
      "needs_background": "light"
     },
     "output_type": "display_data"
    }
   ],
   "source": [
    "fig, axs = plt.subplots(2, 4, figsize=(20, 10))\n",
    "\n",
    "axs[0][0].hist(beta_min)\n",
    "axs[0][0].set_title(\"Beta min\")\n",
    "\n",
    "axs[0][1].hist(beta_5)\n",
    "axs[0][1].set_title(\"Beta 5%\")\n",
    "\n",
    "axs[0][2].hist(beta_25)\n",
    "axs[0][2].set_title(\"Beta 25%\")\n",
    "\n",
    "axs[0][3].hist(beta_50)\n",
    "axs[0][3].set_title(\"Beta 50%\")\n",
    "\n",
    "axs[1][0].hist(beta_75)\n",
    "axs[1][0].set_title(\"Beta 75%\")\n",
    "\n",
    "axs[1][1].hist(beta_95)\n",
    "axs[1][1].set_title(\"Beta 95%\")\n",
    "\n",
    "axs[1][2].hist(beta_max)\n",
    "axs[1][2].set_title(\"Beta max\")\n",
    "\n",
    "plt.show()"
   ]
  },
  {
   "cell_type": "code",
   "execution_count": 49,
   "metadata": {},
   "outputs": [
    {
     "data": {
      "text/plain": [
       "<matplotlib.patches.StepPatch at 0x1dc055d5dc0>"
      ]
     },
     "execution_count": 49,
     "metadata": {},
     "output_type": "execute_result"
    },
    {
     "data": {
      "image/png": "[encoded data removed]",
      "text/plain": [
       "<Figure size 432x288 with 1 Axes>"
      ]
     },
     "metadata": {
      "needs_background": "light"
     },
     "output_type": "display_data"
    }
   ],
   "source": [
    "beta_unf = fit_unf.stan_variable('beta')\n",
    "plt.stairs(beta_unf[0])"
   ]
  },
  {
   "cell_type": "code",
   "execution_count": 50,
   "metadata": {},
   "outputs": [
    {
     "data": {
      "text/plain": [
       "<matplotlib.patches.StepPatch at 0x1dc056d6220>"
      ]
     },
     "execution_count": 50,
     "metadata": {},
     "output_type": "execute_result"
    },
    {
     "data": {
      "image/png": "[encoded data removed]",
      "text/plain": [
       "<Figure size 432x288 with 1 Axes>"
      ]
     },
     "metadata": {
      "needs_background": "light"
     },
     "output_type": "display_data"
    }
   ],
   "source": [
    "substraction = beta_s - beta_unf\n",
    "plt.stairs(substraction[0])"
   ]
  },
  {
   "cell_type": "markdown",
   "metadata": {},
   "source": [
    "### Model 2 - Narrow weakly informative prior.\n",
    "We try to improve sampling by regularizing the search space with normal priors. This is prior used in ridge regression (but here is the bayesian context)"
   ]
  },
  {
   "cell_type": "code",
   "execution_count": 51,
   "metadata": {},
   "outputs": [
    {
     "name": "stderr",
     "output_type": "stream",
     "text": [
      "INFO:cmdstanpy:found newer exe file, not recompiling\n"
     ]
    }
   ],
   "source": [
    "model_reg = CmdStanModel(stan_file = 'model2.stan')"
   ]
  },
  {
   "cell_type": "code",
   "execution_count": 52,
   "metadata": {},
   "outputs": [
    {
     "name": "stderr",
     "output_type": "stream",
     "text": [
      "INFO:cmdstanpy:CmdStan start processing\n",
      "chain 1 |\u001b[33m          \u001b[0m| 00:00 Status\n",
      "\u001b[A\n",
      "\n",
      "chain 1 |\u001b[33m▍         \u001b[0m| 00:00 Status\n",
      "\u001b[A\n",
      "\u001b[A\n",
      "\n",
      "chain 1 |\u001b[33m▉         \u001b[0m| 00:00 Iteration:    1 / 2000 [  0%]  (Warmup)\n",
      "\n",
      "\u001b[A\u001b[A\n",
      "chain 1 |\u001b[33m█▊        \u001b[0m| 00:00 Iteration:  200 / 2000 [ 10%]  (Warmup)\n",
      "\n",
      "\u001b[A\u001b[A\n",
      "chain 1 |\u001b[33m██▋       \u001b[0m| 00:00 Iteration:  400 / 2000 [ 20%]  (Warmup)\n",
      "\n",
      "\u001b[A\u001b[A\n",
      "chain 1 |\u001b[33m███▋      \u001b[0m| 00:00 Iteration:  600 / 2000 [ 30%]  (Warmup)\n",
      "\n",
      "\u001b[A\u001b[A\n",
      "chain 1 |\u001b[33m████▌     \u001b[0m| 00:01 Iteration:  800 / 2000 [ 40%]  (Warmup)\n",
      "\u001b[A\n",
      "\n",
      "chain 1 |\u001b[34m█████▉    \u001b[0m| 00:01 Iteration: 1001 / 2000 [ 50%]  (Sampling)\n",
      "\n",
      "\u001b[A\u001b[A\n",
      "chain 1 |\u001b[34m██████▊   \u001b[0m| 00:01 Iteration: 1200 / 2000 [ 60%]  (Sampling)\n",
      "\n",
      "\u001b[A\u001b[A\n",
      "chain 1 |\u001b[34m███████▋  \u001b[0m| 00:01 Iteration: 1400 / 2000 [ 70%]  (Sampling)\n",
      "\n",
      "\u001b[A\u001b[A\n",
      "chain 1 |\u001b[34m█████████ \u001b[0m| 00:02 Iteration: 1700 / 2000 [ 85%]  (Sampling)\n",
      "\u001b[A\n",
      "\n",
      "chain 1 |\u001b[34m█████████▌\u001b[0m| 00:02 Iteration: 1800 / 2000 [ 90%]  (Sampling)\n",
      "\u001b[A\n",
      "\n",
      "chain 1 |\u001b[34m██████████\u001b[0m| 00:02 Iteration: 1900 / 2000 [ 95%]  (Sampling)\n",
      "chain 1 |\u001b[34m██████████\u001b[0m| 00:02 Sampling completed                       \n",
      "chain 2 |\u001b[34m██████████\u001b[0m| 00:02 Sampling completed                       \n",
      "chain 3 |\u001b[34m██████████\u001b[0m| 00:02 Sampling completed                       \n",
      "chain 4 |\u001b[34m██████████\u001b[0m| 00:02 Sampling completed                       "
     ]
    },
    {
     "name": "stdout",
     "output_type": "stream",
     "text": [
      "                                                                                                                                                                                                                                                                                                                                "
     ]
    },
    {
     "name": "stderr",
     "output_type": "stream",
     "text": [
      "\n",
      "INFO:cmdstanpy:CmdStan done processing.\n"
     ]
    },
    {
     "name": "stdout",
     "output_type": "stream",
     "text": [
      "\n"
     ]
    }
   ],
   "source": [
    "fit_reg = model_reg.sample(data=data_for_inference,seed=seed)"
   ]
  },
  {
   "cell_type": "code",
   "execution_count": 53,
   "metadata": {},
   "outputs": [
    {
     "name": "stdout",
     "output_type": "stream",
     "text": [
      "Processing csv files: C:\\Users\\PC\\AppData\\Local\\Temp\\tmp11ufth45\\model2-20220511162929_1.csv, C:\\Users\\PC\\AppData\\Local\\Temp\\tmp11ufth45\\model2-20220511162929_2.csv, C:\\Users\\PC\\AppData\\Local\\Temp\\tmp11ufth45\\model2-20220511162929_3.csv, C:\\Users\\PC\\AppData\\Local\\Temp\\tmp11ufth45\\model2-20220511162929_4.csv\n",
      "\n",
      "Checking sampler transitions treedepth.\n",
      "Treedepth satisfactory for all transitions.\n",
      "\n",
      "Checking sampler transitions for divergences.\n",
      "No divergent transitions found.\n",
      "\n",
      "Checking E-BFMI - sampler transitions HMC potential energy.\n",
      "E-BFMI satisfactory.\n",
      "\n",
      "Effective sample size satisfactory.\n",
      "\n",
      "Split R-hat values satisfactory all parameters.\n",
      "\n",
      "Processing complete, no problems detected.\n",
      "\n"
     ]
    }
   ],
   "source": [
    "print(fit_reg.diagnose())"
   ]
  },
  {
   "cell_type": "markdown",
   "metadata": {},
   "source": [
    "#### Task 2. Evaluating model\n",
    "\n",
    "1. Analyse the diagnosis of model. Are the sampling problems solved\n",
    "2. For each fitted beta coefficient plot maximum, minimum, and 5, 25, 50, 75, 95 quantiles of simulated weight (all in the same plot). Compare with true values of beta. \n",
    "3. Substract true values from fitted betas and make the same plot (residues)"
   ]
  },
  {
   "cell_type": "markdown",
   "metadata": {},
   "source": [
    "Sampling problems are solved"
   ]
  },
  {
   "cell_type": "code",
   "execution_count": 54,
   "metadata": {},
   "outputs": [
    {
     "data": {
      "text/html": [
       "<div>\n",
       "<style scoped>\n",
       "    .dataframe tbody tr th:only-of-type {\n",
       "        vertical-align: middle;\n",
       "    }\n",
       "\n",
       "    .dataframe tbody tr th {\n",
       "        vertical-align: top;\n",
       "    }\n",
       "\n",
       "    .dataframe thead th {\n",
       "        text-align: right;\n",
       "    }\n",
       "</style>\n",
       "<table border=\"1\" class=\"dataframe\">\n",
       "  <thead>\n",
       "    <tr style=\"text-align: right;\">\n",
       "      <th></th>\n",
       "      <th>Mean</th>\n",
       "      <th>MCSE</th>\n",
       "      <th>StdDev</th>\n",
       "      <th>5%</th>\n",
       "      <th>50%</th>\n",
       "      <th>95%</th>\n",
       "      <th>N_Eff</th>\n",
       "      <th>N_Eff/s</th>\n",
       "      <th>R_hat</th>\n",
       "    </tr>\n",
       "    <tr>\n",
       "      <th>name</th>\n",
       "      <th></th>\n",
       "      <th></th>\n",
       "      <th></th>\n",
       "      <th></th>\n",
       "      <th></th>\n",
       "      <th></th>\n",
       "      <th></th>\n",
       "      <th></th>\n",
       "      <th></th>\n",
       "    </tr>\n",
       "  </thead>\n",
       "  <tbody>\n",
       "    <tr>\n",
       "      <th>lp__</th>\n",
       "      <td>-530.00</td>\n",
       "      <td>0.2800</td>\n",
       "      <td>10.00</td>\n",
       "      <td>-550.00</td>\n",
       "      <td>-530.00</td>\n",
       "      <td>-510.0000</td>\n",
       "      <td>1400.00</td>\n",
       "      <td>270.00</td>\n",
       "      <td>1.0</td>\n",
       "    </tr>\n",
       "    <tr>\n",
       "      <th>beta[1]</th>\n",
       "      <td>0.13</td>\n",
       "      <td>0.0092</td>\n",
       "      <td>0.93</td>\n",
       "      <td>-1.40</td>\n",
       "      <td>0.14</td>\n",
       "      <td>1.7000</td>\n",
       "      <td>10292.00</td>\n",
       "      <td>1990.00</td>\n",
       "      <td>1.0</td>\n",
       "    </tr>\n",
       "    <tr>\n",
       "      <th>beta[2]</th>\n",
       "      <td>-0.13</td>\n",
       "      <td>0.0097</td>\n",
       "      <td>0.90</td>\n",
       "      <td>-1.60</td>\n",
       "      <td>-0.14</td>\n",
       "      <td>1.4000</td>\n",
       "      <td>8676.00</td>\n",
       "      <td>1677.00</td>\n",
       "      <td>1.0</td>\n",
       "    </tr>\n",
       "    <tr>\n",
       "      <th>beta[3]</th>\n",
       "      <td>0.40</td>\n",
       "      <td>0.0091</td>\n",
       "      <td>0.88</td>\n",
       "      <td>-1.00</td>\n",
       "      <td>0.40</td>\n",
       "      <td>1.8000</td>\n",
       "      <td>9210.00</td>\n",
       "      <td>1781.00</td>\n",
       "      <td>1.0</td>\n",
       "    </tr>\n",
       "    <tr>\n",
       "      <th>beta[4]</th>\n",
       "      <td>-0.25</td>\n",
       "      <td>0.0100</td>\n",
       "      <td>0.94</td>\n",
       "      <td>-1.80</td>\n",
       "      <td>-0.25</td>\n",
       "      <td>1.3000</td>\n",
       "      <td>8675.00</td>\n",
       "      <td>1677.00</td>\n",
       "      <td>1.0</td>\n",
       "    </tr>\n",
       "    <tr>\n",
       "      <th>...</th>\n",
       "      <td>...</td>\n",
       "      <td>...</td>\n",
       "      <td>...</td>\n",
       "      <td>...</td>\n",
       "      <td>...</td>\n",
       "      <td>...</td>\n",
       "      <td>...</td>\n",
       "      <td>...</td>\n",
       "      <td>...</td>\n",
       "    </tr>\n",
       "    <tr>\n",
       "      <th>beta[198]</th>\n",
       "      <td>-1.50</td>\n",
       "      <td>0.0089</td>\n",
       "      <td>0.92</td>\n",
       "      <td>-3.00</td>\n",
       "      <td>-1.50</td>\n",
       "      <td>-0.0057</td>\n",
       "      <td>10696.00</td>\n",
       "      <td>2068.00</td>\n",
       "      <td>1.0</td>\n",
       "    </tr>\n",
       "    <tr>\n",
       "      <th>beta[199]</th>\n",
       "      <td>-0.24</td>\n",
       "      <td>0.0100</td>\n",
       "      <td>0.91</td>\n",
       "      <td>-1.70</td>\n",
       "      <td>-0.24</td>\n",
       "      <td>1.3000</td>\n",
       "      <td>8356.00</td>\n",
       "      <td>1616.00</td>\n",
       "      <td>1.0</td>\n",
       "    </tr>\n",
       "    <tr>\n",
       "      <th>beta[200]</th>\n",
       "      <td>0.32</td>\n",
       "      <td>0.0091</td>\n",
       "      <td>0.90</td>\n",
       "      <td>-1.10</td>\n",
       "      <td>0.31</td>\n",
       "      <td>1.8000</td>\n",
       "      <td>9734.00</td>\n",
       "      <td>1882.00</td>\n",
       "      <td>1.0</td>\n",
       "    </tr>\n",
       "    <tr>\n",
       "      <th>alpha</th>\n",
       "      <td>0.89</td>\n",
       "      <td>0.0200</td>\n",
       "      <td>1.43</td>\n",
       "      <td>-1.46</td>\n",
       "      <td>0.89</td>\n",
       "      <td>3.2600</td>\n",
       "      <td>8726.25</td>\n",
       "      <td>1687.21</td>\n",
       "      <td>1.0</td>\n",
       "    </tr>\n",
       "    <tr>\n",
       "      <th>sigma</th>\n",
       "      <td>16.57</td>\n",
       "      <td>0.0200</td>\n",
       "      <td>1.10</td>\n",
       "      <td>14.76</td>\n",
       "      <td>16.57</td>\n",
       "      <td>18.3700</td>\n",
       "      <td>4250.90</td>\n",
       "      <td>821.91</td>\n",
       "      <td>1.0</td>\n",
       "    </tr>\n",
       "  </tbody>\n",
       "</table>\n",
       "<p>203 rows × 9 columns</p>\n",
       "</div>"
      ],
      "text/plain": [
       "             Mean    MCSE  StdDev      5%     50%       95%     N_Eff  \\\n",
       "name                                                                    \n",
       "lp__      -530.00  0.2800   10.00 -550.00 -530.00 -510.0000   1400.00   \n",
       "beta[1]      0.13  0.0092    0.93   -1.40    0.14    1.7000  10292.00   \n",
       "beta[2]     -0.13  0.0097    0.90   -1.60   -0.14    1.4000   8676.00   \n",
       "beta[3]      0.40  0.0091    0.88   -1.00    0.40    1.8000   9210.00   \n",
       "beta[4]     -0.25  0.0100    0.94   -1.80   -0.25    1.3000   8675.00   \n",
       "...           ...     ...     ...     ...     ...       ...       ...   \n",
       "beta[198]   -1.50  0.0089    0.92   -3.00   -1.50   -0.0057  10696.00   \n",
       "beta[199]   -0.24  0.0100    0.91   -1.70   -0.24    1.3000   8356.00   \n",
       "beta[200]    0.32  0.0091    0.90   -1.10    0.31    1.8000   9734.00   \n",
       "alpha        0.89  0.0200    1.43   -1.46    0.89    3.2600   8726.25   \n",
       "sigma       16.57  0.0200    1.10   14.76   16.57   18.3700   4250.90   \n",
       "\n",
       "           N_Eff/s  R_hat  \n",
       "name                       \n",
       "lp__        270.00    1.0  \n",
       "beta[1]    1990.00    1.0  \n",
       "beta[2]    1677.00    1.0  \n",
       "beta[3]    1781.00    1.0  \n",
       "beta[4]    1677.00    1.0  \n",
       "...            ...    ...  \n",
       "beta[198]  2068.00    1.0  \n",
       "beta[199]  1616.00    1.0  \n",
       "beta[200]  1882.00    1.0  \n",
       "alpha      1687.21    1.0  \n",
       "sigma       821.91    1.0  \n",
       "\n",
       "[203 rows x 9 columns]"
      ]
     },
     "execution_count": 54,
     "metadata": {},
     "output_type": "execute_result"
    }
   ],
   "source": [
    "fit_reg.summary()"
   ]
  },
  {
   "cell_type": "code",
   "execution_count": 55,
   "metadata": {},
   "outputs": [],
   "source": [
    "beta_5 = fit_reg.summary()['5%'].loc['beta[1]':'beta[200]']\n",
    "beta_50 = fit_reg.summary()['50%'].loc['beta[1]':'beta[200]']\n",
    "beta_95 = fit_reg.summary()['95%'].loc['beta[1]':'beta[200]']\n",
    "\n",
    "beta_25 = fit_reg.draws_pd().describe().loc['25%']['beta[1]':'beta[200]']\n",
    "beta_75 = fit_reg.draws_pd().describe().loc['75%']['beta[1]':'beta[200]']\n",
    "beta_min = fit_reg.draws_pd().describe().loc['min']['beta[1]':'beta[200]']\n",
    "beta_max = fit_reg.draws_pd().describe().loc['max']['beta[1]':'beta[200]']"
   ]
  },
  {
   "cell_type": "code",
   "execution_count": 56,
   "metadata": {},
   "outputs": [
    {
     "data": {
      "image/png": "[encoded data removed]",
      "text/plain": [
       "<Figure size 1440x720 with 8 Axes>"
      ]
     },
     "metadata": {
      "needs_background": "light"
     },
     "output_type": "display_data"
    }
   ],
   "source": [
    "fig, axs = plt.subplots(2, 4, figsize=(20, 10))\n",
    "\n",
    "axs[0][0].hist(beta_min)\n",
    "axs[0][0].set_title(\"Beta min\")\n",
    "\n",
    "axs[0][1].hist(beta_5)\n",
    "axs[0][1].set_title(\"Beta 5%\")\n",
    "\n",
    "axs[0][2].hist(beta_25)\n",
    "axs[0][2].set_title(\"Beta 25%\")\n",
    "\n",
    "axs[0][3].hist(beta_50)\n",
    "axs[0][3].set_title(\"Beta 50%\")\n",
    "\n",
    "axs[1][0].hist(beta_75)\n",
    "axs[1][0].set_title(\"Beta 75%\")\n",
    "\n",
    "axs[1][1].hist(beta_95)\n",
    "axs[1][1].set_title(\"Beta 95%\")\n",
    "\n",
    "axs[1][2].hist(beta_max)\n",
    "axs[1][2].set_title(\"Beta max\")\n",
    "\n",
    "plt.show()"
   ]
  },
  {
   "cell_type": "code",
   "execution_count": 57,
   "metadata": {},
   "outputs": [
    {
     "data": {
      "text/plain": [
       "<matplotlib.patches.StepPatch at 0x1dc026bb100>"
      ]
     },
     "execution_count": 57,
     "metadata": {},
     "output_type": "execute_result"
    },
    {
     "data": {
      "image/png": "[encoded data removed]",
      "text/plain": [
       "<Figure size 432x288 with 1 Axes>"
      ]
     },
     "metadata": {
      "needs_background": "light"
     },
     "output_type": "display_data"
    }
   ],
   "source": [
    "beta_reg = fit_reg.stan_variable('beta')\n",
    "plt.stairs(beta_reg[0])"
   ]
  },
  {
   "cell_type": "code",
   "execution_count": 58,
   "metadata": {},
   "outputs": [
    {
     "data": {
      "text/plain": [
       "<matplotlib.patches.StepPatch at 0x1dc01ede310>"
      ]
     },
     "execution_count": 58,
     "metadata": {},
     "output_type": "execute_result"
    },
    {
     "data": {
      "image/png": "[encoded data removed]",
      "text/plain": [
       "<Figure size 432x288 with 1 Axes>"
      ]
     },
     "metadata": {
      "needs_background": "light"
     },
     "output_type": "display_data"
    }
   ],
   "source": [
    "substraction = beta_s - beta_reg\n",
    "plt.stairs(substraction[0])"
   ]
  },
  {
   "cell_type": "markdown",
   "metadata": {},
   "source": [
    "### Model 3 -  Sparsity enforcing prior\n",
    "\n",
    "We will now try to enforce shrinking of small parameters using a Laplace prior. This is a prior that is used in Lasso regression. (but here is the bayesian context)"
   ]
  },
  {
   "cell_type": "code",
   "execution_count": 59,
   "metadata": {},
   "outputs": [
    {
     "name": "stderr",
     "output_type": "stream",
     "text": [
      "INFO:cmdstanpy:found newer exe file, not recompiling\n"
     ]
    }
   ],
   "source": [
    "model_lap = CmdStanModel(stan_file = 'model3.stan')"
   ]
  },
  {
   "cell_type": "code",
   "execution_count": 60,
   "metadata": {},
   "outputs": [
    {
     "name": "stderr",
     "output_type": "stream",
     "text": [
      "INFO:cmdstanpy:CmdStan start processing\n",
      "chain 1 |\u001b[33m          \u001b[0m| 00:00 Status\n",
      "\u001b[A\n",
      "\n",
      "chain 1 |\u001b[33m▍         \u001b[0m| 00:00 Status\n",
      "\u001b[A\n",
      "\n",
      "chain 1 |\u001b[33m▉         \u001b[0m| 00:02 Iteration:    1 / 2000 [  0%]  (Warmup)\n",
      "\n",
      "\u001b[A\u001b[A\n",
      "chain 1 |\u001b[33m█▎        \u001b[0m| 00:07 Iteration:  100 / 2000 [  5%]  (Warmup)\n",
      "\n",
      "chain 1 |\u001b[33m█▊        \u001b[0m| 00:12 Iteration:  200 / 2000 [ 10%]  (Warmup)\n",
      "\u001b[A\n",
      "\n",
      "chain 1 |\u001b[33m██▎       \u001b[0m| 00:18 Iteration:  300 / 2000 [ 15%]  (Warmup)\n",
      "\n",
      "\u001b[A\u001b[A\n",
      "chain 1 |\u001b[33m██▋       \u001b[0m| 00:26 Iteration:  400 / 2000 [ 20%]  (Warmup)\n",
      "\n",
      "\u001b[A\u001b[A\n",
      "chain 1 |\u001b[33m███▏      \u001b[0m| 00:31 Iteration:  500 / 2000 [ 25%]  (Warmup)\n",
      "\n",
      "\u001b[A\u001b[A\n",
      "chain 1 |\u001b[33m███▋      \u001b[0m| 00:36 Iteration:  600 / 2000 [ 30%]  (Warmup)\n",
      "\u001b[A\n",
      "\n",
      "chain 1 |\u001b[33m████      \u001b[0m| 00:41 Iteration:  700 / 2000 [ 35%]  (Warmup)\n",
      "\n",
      "\u001b[A\u001b[A\n",
      "chain 1 |\u001b[33m████▌     \u001b[0m| 00:48 Iteration:  800 / 2000 [ 40%]  (Warmup)\n",
      "\n",
      "\u001b[A\u001b[A\n",
      "\u001b[A\n",
      "\n",
      "chain 1 |\u001b[34m█████▉    \u001b[0m| 01:00 Iteration: 1001 / 2000 [ 50%]  (Sampling)\n",
      "\u001b[A\n",
      "\n",
      "chain 1 |\u001b[34m██████▎   \u001b[0m| 01:05 Iteration: 1100 / 2000 [ 55%]  (Sampling)\n",
      "chain 1 |\u001b[34m██████▊   \u001b[0m| 01:10 Iteration: 1200 / 2000 [ 60%]  (Sampling)\n",
      "\n",
      "\u001b[A\u001b[A\n",
      "chain 1 |\u001b[34m███████▎  \u001b[0m| 01:15 Iteration: 1300 / 2000 [ 65%]  (Sampling)\n",
      "\n",
      "\u001b[A\u001b[A\n",
      "chain 1 |\u001b[34m███████▋  \u001b[0m| 01:20 Iteration: 1400 / 2000 [ 70%]  (Sampling)\n",
      "chain 1 |\u001b[34m████████▏ \u001b[0m| 01:24 Iteration: 1500 / 2000 [ 75%]  (Sampling)\n",
      "\n",
      "\u001b[A\u001b[A\n",
      "chain 1 |\u001b[34m████████▋ \u001b[0m| 01:29 Iteration: 1600 / 2000 [ 80%]  (Sampling)\n",
      "\n",
      "\u001b[A\u001b[A\n",
      "chain 1 |\u001b[34m█████████▌\u001b[0m| 01:39 Iteration: 1800 / 2000 [ 90%]  (Sampling)\n",
      "\u001b[A\n",
      "\n",
      "chain 1 |\u001b[34m██████████\u001b[0m| 01:45 Iteration: 1900 / 2000 [ 95%]  (Sampling)\n",
      "\u001b[A\n",
      "\n",
      "\u001b[A\u001b[A\n",
      "\u001b[A\n",
      "\n",
      "\u001b[A\u001b[A\n",
      "\u001b[A\n",
      "\u001b[A\n",
      "\n",
      "\u001b[A\u001b[A\n",
      "\n",
      "chain 1 |\u001b[34m██████████\u001b[0m| 03:55 Sampling completed                       \n",
      "chain 2 |\u001b[34m██████████\u001b[0m| 03:55 Sampling completed                       \n",
      "chain 3 |\u001b[34m██████████\u001b[0m| 03:55 Sampling completed                       \n",
      "chain 4 |\u001b[34m██████████\u001b[0m| 03:55 Sampling completed                       "
     ]
    },
    {
     "name": "stdout",
     "output_type": "stream",
     "text": [
      "                                                                                "
     ]
    },
    {
     "name": "stderr",
     "output_type": "stream",
     "text": [
      "\n"
     ]
    },
    {
     "name": "stdout",
     "output_type": "stream",
     "text": [
      "                                                                                                                                                                                                                                                "
     ]
    },
    {
     "name": "stderr",
     "output_type": "stream",
     "text": [
      "INFO:cmdstanpy:CmdStan done processing.\n"
     ]
    },
    {
     "name": "stdout",
     "output_type": "stream",
     "text": [
      "\n"
     ]
    }
   ],
   "source": [
    "fit_lap = model_lap.sample(data=data_for_inference,seed=seed,adapt_delta=0.99,max_treedepth=12) #sampling problematic some parameters have to be adjusted"
   ]
  },
  {
   "cell_type": "code",
   "execution_count": 61,
   "metadata": {},
   "outputs": [
    {
     "name": "stdout",
     "output_type": "stream",
     "text": [
      "Processing csv files: C:\\Users\\PC\\AppData\\Local\\Temp\\tmp11ufth45\\model3-20220511162957_1.csv, C:\\Users\\PC\\AppData\\Local\\Temp\\tmp11ufth45\\model3-20220511162957_2.csv, C:\\Users\\PC\\AppData\\Local\\Temp\\tmp11ufth45\\model3-20220511162957_3.csv, C:\\Users\\PC\\AppData\\Local\\Temp\\tmp11ufth45\\model3-20220511162957_4.csv\n",
      "\n",
      "Checking sampler transitions treedepth.\n",
      "1000 of 4000 (25.00%) transitions hit the maximum treedepth limit of 12, or 2^12 leapfrog steps.\n",
      "Trajectories that are prematurely terminated due to this limit will result in slow exploration.\n",
      "For optimal performance, increase this limit.\n",
      "\n",
      "Checking sampler transitions for divergences.\n",
      "No divergent transitions found.\n",
      "\n",
      "Checking E-BFMI - sampler transitions HMC potential energy.\n",
      "The E-BFMI, 0.04, is below the nominal threshold of 0.30 which suggests that HMC may have trouble exploring the target distribution.\n",
      "If possible, try to reparameterize the model.\n",
      "\n",
      "Effective sample size satisfactory.\n",
      "\n",
      "The following parameters had split R-hat greater than 1.05:\n",
      "  sigma\n",
      "Such high values indicate incomplete mixing and biased estimation.\n",
      "You should consider regularizating your model with additional prior information or a more effective parameterization.\n",
      "\n",
      "Processing complete.\n",
      "\n"
     ]
    }
   ],
   "source": [
    "print(fit_lap.diagnose())"
   ]
  },
  {
   "cell_type": "markdown",
   "metadata": {},
   "source": [
    "#### Task 3. Evaluating model\n",
    "\n",
    "1. Analyse the diagnosis of model. Are the sampling problems solved. Are there any new sampling issues?\n",
    "2. For each fitted beta coefficient plot maximum, minimum, and 5, 25, 50, 75, 95 quantiles of simulated weight (all in the same plot). Compare with true values of beta. \n",
    "3. Substract true values from fitted betas and make the same plot (residues)"
   ]
  },
  {
   "cell_type": "markdown",
   "metadata": {},
   "source": [
    "New sampling issues:\n",
    "- (25.00%) transitions hit the maximum treedepth limit of 12, or 2^12 leapfrog steps.\n",
    "- The E-BFMI, 0.04, is below the nominal threshold of 0.30 which suggests that HMC may have trouble exploring the target distribution.\n",
    "- The following parameters had split R-hat greater than 1.05: sigma"
   ]
  },
  {
   "cell_type": "code",
   "execution_count": 62,
   "metadata": {},
   "outputs": [
    {
     "data": {
      "text/html": [
       "<div>\n",
       "<style scoped>\n",
       "    .dataframe tbody tr th:only-of-type {\n",
       "        vertical-align: middle;\n",
       "    }\n",
       "\n",
       "    .dataframe tbody tr th {\n",
       "        vertical-align: top;\n",
       "    }\n",
       "\n",
       "    .dataframe thead th {\n",
       "        text-align: right;\n",
       "    }\n",
       "</style>\n",
       "<table border=\"1\" class=\"dataframe\">\n",
       "  <thead>\n",
       "    <tr style=\"text-align: right;\">\n",
       "      <th></th>\n",
       "      <th>Mean</th>\n",
       "      <th>MCSE</th>\n",
       "      <th>StdDev</th>\n",
       "      <th>5%</th>\n",
       "      <th>50%</th>\n",
       "      <th>95%</th>\n",
       "      <th>N_Eff</th>\n",
       "      <th>N_Eff/s</th>\n",
       "      <th>R_hat</th>\n",
       "    </tr>\n",
       "    <tr>\n",
       "      <th>name</th>\n",
       "      <th></th>\n",
       "      <th></th>\n",
       "      <th></th>\n",
       "      <th></th>\n",
       "      <th></th>\n",
       "      <th></th>\n",
       "      <th></th>\n",
       "      <th></th>\n",
       "      <th></th>\n",
       "    </tr>\n",
       "  </thead>\n",
       "  <tbody>\n",
       "    <tr>\n",
       "      <th>lp__</th>\n",
       "      <td>-240.00</td>\n",
       "      <td>17.000</td>\n",
       "      <td>80.00</td>\n",
       "      <td>-360.00</td>\n",
       "      <td>-250.00</td>\n",
       "      <td>-110.00</td>\n",
       "      <td>23.0</td>\n",
       "      <td>0.071</td>\n",
       "      <td>1.4</td>\n",
       "    </tr>\n",
       "    <tr>\n",
       "      <th>beta[1]</th>\n",
       "      <td>-0.22</td>\n",
       "      <td>0.020</td>\n",
       "      <td>0.77</td>\n",
       "      <td>-1.60</td>\n",
       "      <td>-0.15</td>\n",
       "      <td>0.99</td>\n",
       "      <td>1550.0</td>\n",
       "      <td>4.800</td>\n",
       "      <td>1.0</td>\n",
       "    </tr>\n",
       "    <tr>\n",
       "      <th>beta[2]</th>\n",
       "      <td>0.25</td>\n",
       "      <td>0.025</td>\n",
       "      <td>0.77</td>\n",
       "      <td>-1.00</td>\n",
       "      <td>0.20</td>\n",
       "      <td>1.60</td>\n",
       "      <td>970.0</td>\n",
       "      <td>3.000</td>\n",
       "      <td>1.0</td>\n",
       "    </tr>\n",
       "    <tr>\n",
       "      <th>beta[3]</th>\n",
       "      <td>0.16</td>\n",
       "      <td>0.019</td>\n",
       "      <td>0.74</td>\n",
       "      <td>-1.00</td>\n",
       "      <td>0.11</td>\n",
       "      <td>1.40</td>\n",
       "      <td>1494.0</td>\n",
       "      <td>4.600</td>\n",
       "      <td>1.0</td>\n",
       "    </tr>\n",
       "    <tr>\n",
       "      <th>beta[4]</th>\n",
       "      <td>-0.65</td>\n",
       "      <td>0.027</td>\n",
       "      <td>0.82</td>\n",
       "      <td>-2.10</td>\n",
       "      <td>-0.58</td>\n",
       "      <td>0.55</td>\n",
       "      <td>934.0</td>\n",
       "      <td>2.900</td>\n",
       "      <td>1.0</td>\n",
       "    </tr>\n",
       "    <tr>\n",
       "      <th>...</th>\n",
       "      <td>...</td>\n",
       "      <td>...</td>\n",
       "      <td>...</td>\n",
       "      <td>...</td>\n",
       "      <td>...</td>\n",
       "      <td>...</td>\n",
       "      <td>...</td>\n",
       "      <td>...</td>\n",
       "      <td>...</td>\n",
       "    </tr>\n",
       "    <tr>\n",
       "      <th>beta[198]</th>\n",
       "      <td>-8.80</td>\n",
       "      <td>0.076</td>\n",
       "      <td>1.20</td>\n",
       "      <td>-11.00</td>\n",
       "      <td>-8.90</td>\n",
       "      <td>-6.70</td>\n",
       "      <td>268.0</td>\n",
       "      <td>0.830</td>\n",
       "      <td>1.0</td>\n",
       "    </tr>\n",
       "    <tr>\n",
       "      <th>beta[199]</th>\n",
       "      <td>-0.20</td>\n",
       "      <td>0.022</td>\n",
       "      <td>0.74</td>\n",
       "      <td>-1.40</td>\n",
       "      <td>-0.18</td>\n",
       "      <td>1.00</td>\n",
       "      <td>1176.0</td>\n",
       "      <td>3.700</td>\n",
       "      <td>1.0</td>\n",
       "    </tr>\n",
       "    <tr>\n",
       "      <th>beta[200]</th>\n",
       "      <td>0.21</td>\n",
       "      <td>0.020</td>\n",
       "      <td>0.68</td>\n",
       "      <td>-0.88</td>\n",
       "      <td>0.18</td>\n",
       "      <td>1.40</td>\n",
       "      <td>1209.0</td>\n",
       "      <td>3.800</td>\n",
       "      <td>1.0</td>\n",
       "    </tr>\n",
       "    <tr>\n",
       "      <th>alpha</th>\n",
       "      <td>2.20</td>\n",
       "      <td>0.000</td>\n",
       "      <td>1.00</td>\n",
       "      <td>0.60</td>\n",
       "      <td>2.20</td>\n",
       "      <td>3.80</td>\n",
       "      <td>1268.1</td>\n",
       "      <td>3.900</td>\n",
       "      <td>1.0</td>\n",
       "    </tr>\n",
       "    <tr>\n",
       "      <th>sigma</th>\n",
       "      <td>0.90</td>\n",
       "      <td>0.100</td>\n",
       "      <td>0.70</td>\n",
       "      <td>0.20</td>\n",
       "      <td>0.70</td>\n",
       "      <td>2.20</td>\n",
       "      <td>35.3</td>\n",
       "      <td>0.100</td>\n",
       "      <td>1.2</td>\n",
       "    </tr>\n",
       "  </tbody>\n",
       "</table>\n",
       "<p>203 rows × 9 columns</p>\n",
       "</div>"
      ],
      "text/plain": [
       "             Mean    MCSE  StdDev      5%     50%     95%   N_Eff  N_Eff/s  \\\n",
       "name                                                                         \n",
       "lp__      -240.00  17.000   80.00 -360.00 -250.00 -110.00    23.0    0.071   \n",
       "beta[1]     -0.22   0.020    0.77   -1.60   -0.15    0.99  1550.0    4.800   \n",
       "beta[2]      0.25   0.025    0.77   -1.00    0.20    1.60   970.0    3.000   \n",
       "beta[3]      0.16   0.019    0.74   -1.00    0.11    1.40  1494.0    4.600   \n",
       "beta[4]     -0.65   0.027    0.82   -2.10   -0.58    0.55   934.0    2.900   \n",
       "...           ...     ...     ...     ...     ...     ...     ...      ...   \n",
       "beta[198]   -8.80   0.076    1.20  -11.00   -8.90   -6.70   268.0    0.830   \n",
       "beta[199]   -0.20   0.022    0.74   -1.40   -0.18    1.00  1176.0    3.700   \n",
       "beta[200]    0.21   0.020    0.68   -0.88    0.18    1.40  1209.0    3.800   \n",
       "alpha        2.20   0.000    1.00    0.60    2.20    3.80  1268.1    3.900   \n",
       "sigma        0.90   0.100    0.70    0.20    0.70    2.20    35.3    0.100   \n",
       "\n",
       "           R_hat  \n",
       "name              \n",
       "lp__         1.4  \n",
       "beta[1]      1.0  \n",
       "beta[2]      1.0  \n",
       "beta[3]      1.0  \n",
       "beta[4]      1.0  \n",
       "...          ...  \n",
       "beta[198]    1.0  \n",
       "beta[199]    1.0  \n",
       "beta[200]    1.0  \n",
       "alpha        1.0  \n",
       "sigma        1.2  \n",
       "\n",
       "[203 rows x 9 columns]"
      ]
     },
     "execution_count": 62,
     "metadata": {},
     "output_type": "execute_result"
    }
   ],
   "source": [
    "fit_lap.summary()"
   ]
  },
  {
   "cell_type": "code",
   "execution_count": 63,
   "metadata": {},
   "outputs": [],
   "source": [
    "beta_5 = fit_lap.summary()['5%'].loc['beta[1]':'beta[200]']\n",
    "beta_50 = fit_lap.summary()['50%'].loc['beta[1]':'beta[200]']\n",
    "beta_95 = fit_lap.summary()['95%'].loc['beta[1]':'beta[200]']\n",
    "\n",
    "beta_25 = fit_lap.draws_pd().describe().loc['25%']['beta[1]':'beta[200]']\n",
    "beta_75 = fit_lap.draws_pd().describe().loc['75%']['beta[1]':'beta[200]']\n",
    "beta_min = fit_lap.draws_pd().describe().loc['min']['beta[1]':'beta[200]']\n",
    "beta_max = fit_lap.draws_pd().describe().loc['max']['beta[1]':'beta[200]']"
   ]
  },
  {
   "cell_type": "code",
   "execution_count": 64,
   "metadata": {},
   "outputs": [
    {
     "data": {
      "image/png": "[encoded data removed]",
      "text/plain": [
       "<Figure size 1440x720 with 8 Axes>"
      ]
     },
     "metadata": {
      "needs_background": "light"
     },
     "output_type": "display_data"
    }
   ],
   "source": [
    "fig, axs = plt.subplots(2, 4, figsize=(20, 10))\n",
    "\n",
    "axs[0][0].hist(beta_min)\n",
    "axs[0][0].set_title(\"Beta min\")\n",
    "\n",
    "axs[0][1].hist(beta_5)\n",
    "axs[0][1].set_title(\"Beta 5%\")\n",
    "\n",
    "axs[0][2].hist(beta_25)\n",
    "axs[0][2].set_title(\"Beta 25%\")\n",
    "\n",
    "axs[0][3].hist(beta_50)\n",
    "axs[0][3].set_title(\"Beta 50%\")\n",
    "\n",
    "axs[1][0].hist(beta_75)\n",
    "axs[1][0].set_title(\"Beta 75%\")\n",
    "\n",
    "axs[1][1].hist(beta_95)\n",
    "axs[1][1].set_title(\"Beta 95%\")\n",
    "\n",
    "axs[1][2].hist(beta_max)\n",
    "axs[1][2].set_title(\"Beta max\")\n",
    "\n",
    "plt.show()"
   ]
  },
  {
   "cell_type": "code",
   "execution_count": 65,
   "metadata": {},
   "outputs": [
    {
     "data": {
      "text/plain": [
       "<matplotlib.patches.StepPatch at 0x1dc0211c040>"
      ]
     },
     "execution_count": 65,
     "metadata": {},
     "output_type": "execute_result"
    },
    {
     "data": {
      "image/png": "[encoded data removed]",
      "text/plain": [
       "<Figure size 432x288 with 1 Axes>"
      ]
     },
     "metadata": {
      "needs_background": "light"
     },
     "output_type": "display_data"
    }
   ],
   "source": [
    "beta_lap = fit_lap.stan_variable('beta')\n",
    "plt.stairs(beta_lap[0])"
   ]
  },
  {
   "cell_type": "code",
   "execution_count": 66,
   "metadata": {},
   "outputs": [
    {
     "data": {
      "text/plain": [
       "<matplotlib.patches.StepPatch at 0x1dc02154880>"
      ]
     },
     "execution_count": 66,
     "metadata": {},
     "output_type": "execute_result"
    },
    {
     "data": {
      "image/png": "[encoded data removed]",
      "text/plain": [
       "<Figure size 432x288 with 1 Axes>"
      ]
     },
     "metadata": {
      "needs_background": "light"
     },
     "output_type": "display_data"
    }
   ],
   "source": [
    "substraction = beta_s - beta_lap\n",
    "plt.stairs(substraction[0])"
   ]
  }
 ],
 "metadata": {
  "interpreter": {
   "hash": "17477fe4f2f9e507304f25940b0aec5bb66a71d619a0fdeb8a61c1a6e43c50f5"
  },
  "kernelspec": {
   "display_name": "Python 3.8.11 ('ABD')",
   "language": "python",
   "name": "python3"
  },
  "language_info": {
   "codemirror_mode": {
    "name": "ipython",
    "version": 3
   },
   "file_extension": ".py",
   "mimetype": "text/x-python",
   "name": "python",
   "nbconvert_exporter": "python",
   "pygments_lexer": "ipython3",
   "version": "3.8.11"
  },
  "orig_nbformat": 4
 },
 "nbformat": 4,
 "nbformat_minor": 2
}
